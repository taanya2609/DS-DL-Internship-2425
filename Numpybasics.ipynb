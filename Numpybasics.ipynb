{
 "cells": [
  {
   "cell_type": "markdown",
   "id": "644b12e9-d895-433f-9b19-e5a6280f9c62",
   "metadata": {},
   "source": []
  },
  {
   "cell_type": "code",
   "execution_count": 2,
   "id": "82df7274-8c34-414a-acbd-89c9aa310a7c",
   "metadata": {},
   "outputs": [],
   "source": [
    "import numpy as np"
   ]
  },
  {
   "cell_type": "code",
   "execution_count": 8,
   "id": "c75db5cb-2544-4856-8e51-61ea01d52f1e",
   "metadata": {},
   "outputs": [],
   "source": [
    "inputArray = np.array ([\n",
    "    [1,2,3],\n",
    "    [4,5,6]\n",
    "])\n"
   ]
  },
  {
   "cell_type": "code",
   "execution_count": 9,
   "id": "8790c152-a628-4bfb-b663-5b492d521b50",
   "metadata": {},
   "outputs": [
    {
     "data": {
      "text/plain": [
       "(2, 3)"
      ]
     },
     "execution_count": 9,
     "metadata": {},
     "output_type": "execute_result"
    }
   ],
   "source": [
    "inputArray.shape"
   ]
  },
  {
   "cell_type": "code",
   "execution_count": null,
   "id": "cc807374-b0ff-4167-92d2-bd0935754f02",
   "metadata": {},
   "outputs": [],
   "source": []
  }
 ],
 "metadata": {
  "kernelspec": {
   "display_name": "Python 3 (ipykernel)",
   "language": "python",
   "name": "python3"
  },
  "language_info": {
   "codemirror_mode": {
    "name": "ipython",
    "version": 3
   },
   "file_extension": ".py",
   "mimetype": "text/x-python",
   "name": "python",
   "nbconvert_exporter": "python",
   "pygments_lexer": "ipython3",
   "version": "3.11.6"
  }
 },
 "nbformat": 4,
 "nbformat_minor": 5
}
