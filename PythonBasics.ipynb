{
 "cells": [
  {
   "cell_type": "markdown",
   "id": "24042cd3-28f3-4bee-8904-104be579eddd",
   "metadata": {},
   "source": [
    "Basic Operations"
   ]
  },
  {
   "cell_type": "code",
   "execution_count": 4,
   "id": "73fb1edf-d5ec-43a1-9f13-cc1c7b40531b",
   "metadata": {},
   "outputs": [
    {
     "name": "stdout",
     "output_type": "stream",
     "text": [
      "8\n"
     ]
    }
   ],
   "source": [
    "addition= 3 + 5\n",
    "print(addition)"
   ]
  },
  {
   "cell_type": "markdown",
   "id": "4a951938-2089-45df-b4fc-c0a1d46ca9f2",
   "metadata": {},
   "source": [
    "Data Structures"
   ]
  },
  {
   "cell_type": "code",
   "execution_count": 5,
   "id": "cbf76a32-677b-450b-b34d-25deb71f07a9",
   "metadata": {},
   "outputs": [],
   "source": [
    "randomList=[1,2,3,4,5,6]"
   ]
  },
  {
   "cell_type": "markdown",
   "id": "0a46715b-b386-4931-90f5-510f13c39d7a",
   "metadata": {},
   "source": [
    "Multiply all the odd numbers in the given list"
   ]
  },
  {
   "cell_type": "code",
   "execution_count": 13,
   "id": "1d2594ce-523b-4d53-b863-355231d8c9a5",
   "metadata": {},
   "outputs": [
    {
     "name": "stdout",
     "output_type": "stream",
     "text": [
      "The final answer is : 15\n"
     ]
    }
   ],
   "source": [
    "result=1\n",
    "\n",
    "for _ in randomList:\n",
    "   if _% 2 != 0:\n",
    "    result*= _\n",
    "print(f'The final answer is : {result}')"
   ]
  },
  {
   "cell_type": "markdown",
   "id": "394af04d-d29a-4d3e-a2e1-4abb5011cb2d",
   "metadata": {},
   "source": [
    "Multiply all the even numbers in the given list"
   ]
  },
  {
   "cell_type": "code",
   "execution_count": 17,
   "id": "573e0e2b-db6e-45e6-9e33-fcaa30e49662",
   "metadata": {},
   "outputs": [
    {
     "name": "stdout",
     "output_type": "stream",
     "text": [
      "The final answer is : 48\n"
     ]
    }
   ],
   "source": [
    "result=1\n",
    "\n",
    "for _ in randomList:\n",
    "   if _% 2 == 0:\n",
    "    result*= _\n",
    "print(f'The final answer is : {result}')"
   ]
  },
  {
   "cell_type": "code",
   "execution_count": null,
   "id": "91864cf3-5d0d-4690-be99-3af3c9f896e1",
   "metadata": {},
   "outputs": [],
   "source": []
  },
  {
   "cell_type": "code",
   "execution_count": null,
   "id": "26feaf35-16b9-40cb-bef8-61d0f7029a26",
   "metadata": {},
   "outputs": [],
   "source": []
  }
 ],
 "metadata": {
  "kernelspec": {
   "display_name": "Python 3 (ipykernel)",
   "language": "python",
   "name": "python3"
  },
  "language_info": {
   "codemirror_mode": {
    "name": "ipython",
    "version": 3
   },
   "file_extension": ".py",
   "mimetype": "text/x-python",
   "name": "python",
   "nbconvert_exporter": "python",
   "pygments_lexer": "ipython3",
   "version": "3.11.6"
  }
 },
 "nbformat": 4,
 "nbformat_minor": 5
}
